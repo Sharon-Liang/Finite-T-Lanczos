{
 "cells": [
  {
   "cell_type": "code",
   "execution_count": 1,
   "metadata": {},
   "outputs": [
    {
     "name": "stderr",
     "output_type": "stream",
     "text": [
      "┌ Info: Precompiling BenchmarkTools [6e4b80f9-dd63-53aa-95a3-0cdb28fa8baf]\n",
      "└ @ Base loading.jl:1186\n",
      "┌ Info: Precompiling PyPlot [d330b81b-6aea-500a-939a-2ce795aea3ee]\n",
      "└ @ Base loading.jl:1186\n"
     ]
    }
   ],
   "source": [
    "# Pkg used\n",
    "using SparseArrays\n",
    "using Arpack\n",
    "using BenchmarkTools\n",
    "using DelimitedFiles\n",
    "using PyPlot"
   ]
  },
  {
   "cell_type": "markdown",
   "metadata": {},
   "source": [
    "This is the full ED code for Kitaev-Heisernberg model on $2 \\times 2 \\times 3$ Kagome lattice, in which the periodic boundary condition is used.\n",
    "\n",
    "\\section{Kagome Lattice}\n",
    "\n",
    "Kagome lattice is equvalent to replacing each site of a triangle lattice by a triangle. Therefore, it has three unequivalent sites in an unit cell. Here, we lable each atom as $(r,c,atom)$, where $(r,c)$ labels the position of an unit cell in the lattice, and $atom$ labels the a specific atom in the unit cell.\n",
    "\n",
    "<img src = \"Kagome-223.png\" width = 200>\n",
    "\n",
    "Note that we deliberately label the three atoms and three bonds like above so that there are only $k$-bond between $i,j$-atoms,where $i,j,k =1,2,3$ and $i \\neq j \\neq k$. This could simplify the code."
   ]
  },
  {
   "cell_type": "code",
   "execution_count": 2,
   "metadata": {},
   "outputs": [
    {
     "data": {
      "text/plain": [
       "findposition (generic function with 1 method)"
      ]
     },
     "execution_count": 2,
     "metadata": {},
     "output_type": "execute_result"
    }
   ],
   "source": [
    "struct Lattice{T <: Integer}\n",
    "    # Lattice size set up\n",
    "    N1::T\n",
    "    N2::T\n",
    "end\n",
    "\n",
    "struct Position{T <: Integer}\n",
    "    # position of an atom in the lattice\n",
    "    row::T\n",
    "    col::T\n",
    "    atom::T\n",
    "end\n",
    "\n",
    "dimension(la::Lattice) = 2^(la.N1 * la.N2 * 2)\n",
    "sitenum(la::Lattice) = la.N1 * la.N2 * 3\n",
    "\n",
    "function index(pos::Position, incell::Int, which::Int, la::Lattice)\n",
    "    #= Calculate the index of the atoms in the (r,c) unit cell.\n",
    "       c, l start from 0.\n",
    "       A-sublattice atom = 0; B-subkattice: atom = 1; C-subkattice: atom = 2.\n",
    "       incell = 0,1 corresponds atoms out or inside of the unitcell\n",
    "       which = 0, 1, 2, 3 corresponds to the original atom and \n",
    "        the one linked to it via x,y,z bonds =#\n",
    "    sgn = 0\n",
    "    if which == pos.atom + 1\n",
    "        return(println(\"ERROR: No such bond!\"))\n",
    "    elseif which == 0\n",
    "        if incell == 1\n",
    "            a = pos.atom\n",
    "            c = pos.col % la.N1\n",
    "            r = pos.row % la.N2\n",
    "        elseif incell == 0\n",
    "            return println(\"ERROR: directions should be 1,2,3.\")\n",
    "        end\n",
    "    elseif which != pos.atom + 1\n",
    "        a = 5 - (pos.atom + 1) - which\n",
    "        if which == 1\n",
    "            sgn = pos.atom - a\n",
    "            c = (pos.col + sgn)% la.N1\n",
    "            r = pos.row % la.N2\n",
    "        elseif which == 2\n",
    "            sgn = pos.atom + 1 - which\n",
    "            c = pos.col% la.N1\n",
    "            r = (pos.row + sgn)% la.N2\n",
    "        elseif which == 3\n",
    "            sgn = pos.atom - a\n",
    "            c = (pos.col + sgn)% la.N1\n",
    "            r = (pos.row - sgn)% la.N2\n",
    "        end\n",
    "    end\n",
    "   \n",
    "    c < 0 ? c += la.N1 : c += 0\n",
    "    r < 0 ? r += la.N2 : r += 0\n",
    "    \n",
    "    #println(r, c, a)\n",
    "    n = r * la.N1 + c\n",
    "    return 3 * n + 1 + a\n",
    "end\n",
    "\n",
    "function findposition(ind::Int, la::Lattice)\n",
    "    #= find the position of ind in the lattice\n",
    "       ind starts from 1 =#\n",
    "    atom = (ind -1)%3 \n",
    "    n = div((ind -1 -atom),3)\n",
    "    r, c = divrem(n, la.N1)\n",
    "    return Position(r, c, atom)\n",
    "end\n"
   ]
  },
  {
   "cell_type": "markdown",
   "metadata": {},
   "source": [
    "\\section{Hamiltonian}"
   ]
  },
  {
   "cell_type": "code",
   "execution_count": 4,
   "metadata": {},
   "outputs": [
    {
     "name": "stdout",
     "output_type": "stream",
     "text": [
      "Position{Int64}(0, 0, 1)\n",
      "2,6\n",
      "Position{Int64}(0, 0, 2)\n",
      "3,5\n",
      "Position{Int64}(0, 1, 1)\n",
      "5,3\n",
      "Position{Int64}(0, 1, 2)\n",
      "6,2\n",
      "Position{Int64}(1, 0, 1)\n",
      "8,12\n",
      "Position{Int64}(1, 0, 2)\n",
      "9,11\n",
      "Position{Int64}(1, 1, 1)\n",
      "11,9\n",
      "Position{Int64}(1, 1, 2)\n",
      "12,8\n"
     ]
    }
   ],
   "source": [
    "la = Lattice(2,2)\n",
    "for row = 0:la.N2-1, col = 0:la.N1-1,atom = 0:2\n",
    "    pos = Position(row,col,atom)\n",
    "    #println(index(pos,1,1,la))\n",
    "    which = 1\n",
    "    if pos.atom != which - 1\n",
    "        println(pos)\n",
    "        println(index(pos,1,0,la),\",\", index(pos,0,which,la))\n",
    "    end\n",
    "end"
   ]
  },
  {
   "cell_type": "code",
   "execution_count": null,
   "metadata": {},
   "outputs": [],
   "source": []
  }
 ],
 "metadata": {
  "kernelspec": {
   "display_name": "Julia 1.1.0",
   "language": "julia",
   "name": "julia-1.1"
  },
  "language_info": {
   "file_extension": ".jl",
   "mimetype": "application/julia",
   "name": "julia",
   "version": "1.1.0"
  },
  "latex_envs": {
   "LaTeX_envs_menu_present": true,
   "autoclose": false,
   "autocomplete": true,
   "bibliofile": "biblio.bib",
   "cite_by": "apalike",
   "current_citInitial": 1,
   "eqLabelWithNumbers": true,
   "eqNumInitial": 1,
   "hotkeys": {
    "equation": "Ctrl-E",
    "itemize": "Ctrl-I"
   },
   "labels_anchors": false,
   "latex_user_defs": false,
   "report_style_numbering": false,
   "user_envs_cfg": false
  },
  "toc": {
   "base_numbering": 1,
   "nav_menu": {},
   "number_sections": true,
   "sideBar": true,
   "skip_h1_title": false,
   "title_cell": "Table of Contents",
   "title_sidebar": "Contents",
   "toc_cell": false,
   "toc_position": {},
   "toc_section_display": true,
   "toc_window_display": false
  }
 },
 "nbformat": 4,
 "nbformat_minor": 4
}
