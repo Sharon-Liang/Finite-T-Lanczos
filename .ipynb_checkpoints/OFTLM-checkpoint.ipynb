{
 "cells": [
  {
   "cell_type": "markdown",
   "metadata": {},
   "source": [
    "OFTLM: Orthogonalized Finite Temperature Lanczos Method"
   ]
  },
  {
   "cell_type": "code",
   "execution_count": 1,
   "metadata": {},
   "outputs": [
    {
     "name": "stdout",
     "output_type": "stream",
     "text": [
      "Finish loading packages!\n",
      "Finish loading functions!\n"
     ]
    }
   ],
   "source": [
    "include(\"package.jl\")\n",
    "include(\"kagome_setup.jl\")\n",
    "include(\"KH_hamiltonian.jl\")\n",
    "include(\"ED_Thermal.jl\")\n",
    "include(\"Full_Orthogonalization_Lanczos.jl\")\n",
    "include(\"FTLM.jl\")\n",
    "println(\"Finish loading functions!\")"
   ]
  },
  {
   "cell_type": "code",
   "execution_count": 4,
   "metadata": {},
   "outputs": [
    {
     "data": {
      "text/plain": [
       "OFTLM (generic function with 1 method)"
      ]
     },
     "execution_count": 4,
     "metadata": {},
     "output_type": "execute_result"
    }
   ],
   "source": [
    "function OFTLM(A::AbstractMatrix; R = 50, M = 90, Ne =10, Op = nothing)\n",
    "    \"\"\"Partition Function by the Finite Temperature Lanczos Method\n",
    "       Input: A := Hamiltonian Matrix\n",
    "              M := The number of Lanczos step\n",
    "              R := The number of random sampling\n",
    "              Ne := Number of Exact eigenstates\n",
    "              temp := Temperature\n",
    "              Op := A general operator\n",
    "        Output: V := [E(rj),  <v psi>*<psi v>, <v psi>*<psi O v>]\n",
    "                dim/R\n",
    "    \"\"\"\n",
    "    Ee, Ve = eigs(A, nev = Ne, which =:SR)\n",
    "    \n",
    "    dim = size(A)[1]; \n",
    "    if Op == nothing\n",
    "        n = 2\n",
    "    else\n",
    "        n = 3\n",
    "    end\n",
    "    \n",
    "    V = zeros(R + Ne, M, n)\n",
    "    \n",
    "    fac = (dim - Ne)/R\n",
    "    for r = 1: R\n",
    "        T, Q = itFOLM(A, nev = M, lb = Ve)\n",
    "        vals, vecs = eigen(T) \n",
    "        for j = 1:M\n",
    "            V[r,j,1] = vals[j] - Ee[1]\n",
    "            V[r,j,2] = vecs[1,j] * vecs[1,j]' * fac\n",
    "            if Op != nothing\n",
    "                V[r,j,3] = vecs[1,j] * (vecs[:,j]' * Q' * Op * Q[:, 1])\n",
    "            end\n",
    "        end\n",
    "    end\n",
    "       \n",
    "    fac = 1\n",
    "    for r = 1 : Ne\n",
    "        V[R + r,1,1] = Ee[r] - Ee[1]\n",
    "        V[R + r,1,2] = fac\n",
    "        if Op != nothing\n",
    "            V[R + r,1,3] = Ve[:,r]' * Op * Ve[:, r]\n",
    "        end\n",
    "    end\n",
    "    \n",
    "    return V\n",
    "end"
   ]
  },
  {
   "cell_type": "code",
   "execution_count": null,
   "metadata": {},
   "outputs": [],
   "source": []
  }
 ],
 "metadata": {
  "kernelspec": {
   "display_name": "Julia 1.1.0",
   "language": "julia",
   "name": "julia-1.1"
  },
  "language_info": {
   "file_extension": ".jl",
   "mimetype": "application/julia",
   "name": "julia",
   "version": "1.1.0"
  },
  "latex_envs": {
   "LaTeX_envs_menu_present": false,
   "autoclose": false,
   "autocomplete": false,
   "bibliofile": "biblio.bib",
   "cite_by": "apalike",
   "current_citInitial": 1,
   "eqLabelWithNumbers": true,
   "eqNumInitial": 1,
   "hotkeys": {
    "equation": "Ctrl-E",
    "itemize": "Ctrl-I"
   },
   "labels_anchors": false,
   "latex_user_defs": false,
   "report_style_numbering": false,
   "user_envs_cfg": false
  },
  "toc": {
   "base_numbering": 1,
   "nav_menu": {},
   "number_sections": true,
   "sideBar": true,
   "skip_h1_title": false,
   "title_cell": "Table of Contents",
   "title_sidebar": "Contents",
   "toc_cell": false,
   "toc_position": {},
   "toc_section_display": true,
   "toc_window_display": false
  }
 },
 "nbformat": 4,
 "nbformat_minor": 4
}
