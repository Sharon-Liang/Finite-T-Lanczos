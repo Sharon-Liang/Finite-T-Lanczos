{
 "cells": [
  {
   "cell_type": "code",
   "execution_count": 2,
   "metadata": {},
   "outputs": [
    {
     "name": "stdout",
     "output_type": "stream",
     "text": [
      "Finish loading packages!\n"
     ]
    }
   ],
   "source": [
    "include(\"package.jl\")"
   ]
  },
  {
   "cell_type": "markdown",
   "metadata": {},
   "source": [
    "This is the full ED code for Kitaev-Heisernberg model on $2 \\times 2 \\times 3$ Kagome lattice, in which the periodic boundary condition is used.\n",
    "\n",
    "\\section{Kagome Lattice}\n",
    "\n",
    "Kagome lattice is equvalent to replacing each site of a triangle lattice by a triangle. Therefore, it has three unequivalent sites in an unit cell. Here, we lable each atom as $(r,c,atom)$, where $(r,c)$ labels the position of an unit cell in the lattice, and $atom$ labels the a specific atom in the unit cell.\n",
    "\n",
    "<img src = \"Kagome-223.png\" width = 200>\n",
    "\n",
    "Note that we deliberately label the three atoms and three bonds like above so that there are only $k$-bond between $i,j$-atoms,where $i,j,k =1,2,3$ and $i \\neq j \\neq k$. This could simplify the code.\n",
    "\n",
    "Set $\\vec{n}_1 = (1,0), \\vec{n}_2 = (\\frac{1}{2},\\frac{\\sqrt{3}}{2})$, then the relative corredinates of each atom are: $\\vec{r}_A = (1,\\frac{\\sqrt{3}}{6}),\\vec{r}_B = (\\frac{3}{4},\\frac{5 \\sqrt{3}}{12}),\\vec{r}_C = (\\frac{5}{4},\\frac{5 \\sqrt{3}}{12})$.\n",
    "\n",
    "According to the lattice in paper: arXiv:1808.03127v1, we have: $\\vec{n}_1 = (\\frac{1}{2},\\frac{\\sqrt{3}}{2}), \\vec{n}_2 = (-\\frac{1}{2},\\frac{\\sqrt{3}}{2})$, then the relative corredinates of each atom are: $\\vec{r}_A = (\\frac{1}{4},\\frac{\\sqrt{3}}{4}),\\vec{r}_B = (-\\frac{1}{4},-\\frac{\\sqrt{3}}{4}),\\vec{r}_C = (0,\\frac{\\sqrt{3}}{2})$."
   ]
  },
  {
   "cell_type": "code",
   "execution_count": 2,
   "metadata": {
    "code_folding": [
     0,
     6,
     16,
     64,
     73
    ]
   },
   "outputs": [],
   "source": [
    "struct Lattice{T <: Integer}\n",
    "    # Lattice size set up\n",
    "    N1::T\n",
    "    N2::T\n",
    "    end;\n",
    "\n",
    "struct Position{T <: Integer}\n",
    "    # position of an atom in the lattice\n",
    "    row::T\n",
    "    col::T\n",
    "    atom::T\n",
    "    end;\n",
    "\n",
    "dimension(la::Lattice) = 2^(la.N1 * la.N2 * 3)\n",
    "sitenum(la::Lattice) = la.N1 * la.N2 * 3\n",
    "\n",
    "function index(pos::Position, incell::Int, which::Int, la::Lattice)\n",
    "    #= Calculate the index of the atoms in the (r,c) unit cell.\n",
    "       c, l start from 0.\n",
    "       A-sublattice atom = 0; B-subkattice: atom = 1; C-subkattice: atom = 2.\n",
    "       incell = 0,1 corresponds atoms out or inside of the unitcell\n",
    "       which = 0, 1, 2, 3 corresponds to the original atom and \n",
    "        the one linked to it via x,y,z bonds =#\n",
    "    sgn = 0\n",
    "    if which == pos.atom + 1\n",
    "        return(println(\"ERROR: No such bond!\"))\n",
    "    elseif which == 0\n",
    "        if incell == 1\n",
    "            a = pos.atom\n",
    "            c = pos.col % la.N1\n",
    "            r = pos.row % la.N2\n",
    "        elseif incell == 0\n",
    "            return println(\"ERROR: directions should be 1,2,3.\")\n",
    "        end\n",
    "    elseif which != pos.atom + 1\n",
    "        a = 5 - (pos.atom + 1) - which\n",
    "        if incell == 1\n",
    "            c = pos.col % la.N1\n",
    "            r = pos.row % la.N2\n",
    "        elseif incell == 0\n",
    "            if which == 1\n",
    "                sgn = pos.atom - a\n",
    "                c = (pos.col + sgn)% la.N1\n",
    "                r = pos.row % la.N2\n",
    "            elseif which == 2\n",
    "                sgn = pos.atom + 1 - which\n",
    "                c = pos.col% la.N1\n",
    "                r = (pos.row + sgn)% la.N2\n",
    "            elseif which == 3\n",
    "                sgn = pos.atom - a\n",
    "                c = (pos.col + sgn)% la.N1\n",
    "                r = (pos.row - sgn)% la.N2\n",
    "            end\n",
    "        end\n",
    "    end\n",
    "   \n",
    "    c < 0 ? c += la.N1 : c += 0\n",
    "    r < 0 ? r += la.N2 : r += 0\n",
    "    \n",
    "    #println(r, c, a)\n",
    "    n = r * la.N1 + c\n",
    "    return 3 * n + 1 + a\n",
    "    end;\n",
    "\n",
    "function findposition(ind::Int, la::Lattice)\n",
    "    #= find the position of ind in the lattice\n",
    "       ind starts from 1 =#\n",
    "    atom = (ind -1)%3 \n",
    "    n = div((ind -1 -atom),3)\n",
    "    r, c = divrem(n, la.N1)\n",
    "    return Position(r, c, atom)\n",
    "    end;\n",
    "\n",
    "function abs_coo(ind::Int, la::Lattice)\n",
    "    r = zeros(3,2)\n",
    "    \n",
    "    #n1 = [1.,0.]; n2 = [1/2, sqrt(3)/2]\n",
    "    #r[1,:] = [1., sqrt(3)/5]\n",
    "    #r[2,:] = [3/4, 5*sqrt(3)/12]\n",
    "    #r[3,:] = [5/4, 5*sqrt(3)/12]\n",
    "    \n",
    "    #n1 = [1/2,sqrt(3)/2]; n2 = [1/2, -sqrt(3)/2]\n",
    "    #r[1,:] = [1/4, 7*sqrt(3)/12]\n",
    "    #r[2,:] = [-1/4, -7*sqrt(3)/12]\n",
    "    #r[3,:] = [0, 5*sqrt(3)/6]\n",
    "    \n",
    "    n1 = [1/2,sqrt(3)/2]; n2 = [1/2, -sqrt(3)/2]\n",
    "    r[1,:] = [1/4, sqrt(3)/4]\n",
    "    r[2,:] = [-1/4, sqrt(3)/4]\n",
    "    r[3,:] = [0, sqrt(3)/2]\n",
    "    \n",
    "    pos = findposition(ind,la)\n",
    "    coo = zeros(2)\n",
    "    coo += pos.row * n2 + pos.col * n1\n",
    "    coo += r[pos.atom+1, :]\n",
    "    return coo\n",
    "    end;"
   ]
  },
  {
   "cell_type": "markdown",
   "metadata": {},
   "source": [
    "\\section{Hamiltonian}\n",
    "\n",
    "Here we consider spin-1/2 Kitaev-Heisenberg model:\n",
    "\n",
    "\\begin{equation}\n",
    "    H = \\sum_{<i,j>_\\alpha} K S_i^\\alpha S_j^\\alpha + \\sum_{<i,j>,\\alpha} J S_i^\\alpha S_j^\\alpha\n",
    "\\end{equation}\n",
    "\n",
    "where $\\alpha = x,y,z$. We introduce parametrization $(J,K) = (I \\cos \\theta, I \\sin \\theta)$, where $I$ is the energy unit. We can write the $S_i^\\alpha S_j^\\alpha$ as:\n",
    "\n",
    "\\begin{align}\n",
    "      S_i^x S_j^x &= \\frac{1}{4} ( S_i^+ S_j^- + S_i^- S_j^+ + S_i^+ S_j^+            + S_i^- S_j^-)\\\\\n",
    "      S_i^y S_j^y &= \\frac{1}{4} ( S_i^+ S_j^- + S_i^- S_j^+ - S_i^+ S_j^+            - S_i^- S_j^-)\\\\\n",
    "      S_i^z S_j^z &= S_i^z S_j^z \\\\\n",
    "\\end{align}\n",
    "\n",
    "where $S_i^\\pm = S_i^x \\pm i S_i^y$.\n",
    "\n",
    "\\subsection{Make the Hamiltonian by iterating over all basis states}"
   ]
  },
  {
   "cell_type": "code",
   "execution_count": 3,
   "metadata": {
    "code_folding": [
     12,
     21,
     37,
     60,
     80,
     109
    ]
   },
   "outputs": [
    {
     "data": {
      "text/plain": [
       "Heisenberg (generic function with 1 method)"
      ]
     },
     "execution_count": 3,
     "metadata": {},
     "output_type": "execute_result"
    }
   ],
   "source": [
    "\"\"\"Tool Functions\"\"\"\n",
    "function bits(i::Integer, num::Integer)\n",
    "    # Chenck the i-th element of the binary representation of a dicimal number\n",
    "    # the bits count from right to left\n",
    "    mask = 2^(i - 1)\n",
    "    if num & mask == mask\n",
    "        return 1\n",
    "    else\n",
    "        return 0\n",
    "    end\n",
    "    end;\n",
    "\n",
    "function flip(i::Int, j::Int, tag::Int)\n",
    "    #=Flip the spin on i,j site.\n",
    "    Inputs: tag: tag of a state\n",
    "            i,j: position of spins that are flipped\n",
    "    Output: The tag of new state, type: int =#\n",
    "    mask = 2^(i-1) + 2^(j-1)\n",
    "    return xor(tag, mask)\n",
    "    end;\n",
    "\n",
    "function append_data(j::Int, colptr::Int, count::Int, row::Array{Int,1})\n",
    "    point = colptr - 1\n",
    "    for pos = colptr: count\n",
    "        point += 1\n",
    "        if row[pos] == j\n",
    "            return pos, count\n",
    "            break\n",
    "        end\n",
    "    end\n",
    "            \n",
    "    if point == count\n",
    "        return count, count+1\n",
    "    end\n",
    "    end;\n",
    "\n",
    "\"\"\"Generate Hamiltonian\"\"\"\n",
    "function apply_Kitaev(ind::Int, bond::Int, incell::Int, si::Int, K::Array{Float64,1}, la::Lattice)\n",
    "    # apply the ind-th Kitaev term on bond to si state\n",
    "    pos = findposition(ind, la)\n",
    "    if bond != pos.atom + 1\n",
    "        nind = index(pos, incell, bond, la)\n",
    "        val = 0.0\n",
    "        if bond == 1\n",
    "            sf = flip(ind, nind, si)\n",
    "            val = K[1] /4\n",
    "        elseif bond == 2\n",
    "            sf = flip(ind, nind, si)\n",
    "            val = -K[2] * (bits(ind, si) - 0.5) * (bits(nind, si) - 0.5)\n",
    "        elseif bond == 3\n",
    "            sf = si\n",
    "            val = K[3] * (bits(ind, si) - 0.5) * (bits(nind, si) - 0.5)\n",
    "        end\n",
    "    elseif bond == pos.atom + 1\n",
    "        sf = si\n",
    "        val = 0.0\n",
    "    end\n",
    "    return sf, val\n",
    "    end;\n",
    "\n",
    "function apply_J(ind::Int, bond::Int, incell::Int, isz::Int, si::Int,J::Array{Float64,1}, la::Lattice)\n",
    "    # Nearest neighbor Heisenberg Hamiltonian\n",
    "    pos = findposition(ind, la)\n",
    "    if bond != pos.atom + 1\n",
    "        nind = index(pos, incell, bond, la)\n",
    "        val = 0.0\n",
    "        if isz == 1\n",
    "            sf = si\n",
    "            val = J[3] * (bits(ind, si) - 0.5) * (bits(nind, si) - 0.5)\n",
    "        else\n",
    "            sf = flip(ind, nind, si)\n",
    "            val = J[1]/4 - J[2] * (bits(ind, si) - 0.5) * (bits(nind, si) - 0.5)\n",
    "        end\n",
    "    elseif bond == pos.atom + 1\n",
    "        sf = si\n",
    "        val = 0.0\n",
    "    end\n",
    "    return sf, val\n",
    "    end;\n",
    "\n",
    "function Kitaev(K::Array{Float64,1}, la::Lattice)\n",
    "    dim = dimension(la)\n",
    "    num = sitenum(la)\n",
    "    max = dim * num * 4\n",
    "    error = 1.e-8\n",
    "    \n",
    "    col, row, data = zeros(Int, dim+1), zeros(Int, max), zeros(max)\n",
    "    colptr, count = 1, 1\n",
    "    \n",
    "    K = K/2\n",
    "    \n",
    "    for si = 0: (dim-1)\n",
    "        col[si+1] = colptr\n",
    "        for ind = 1:num, bond = 1:3, incell = 0:1\n",
    "            sf, val = apply_Kitaev(ind, bond, incell, si, K, la)\n",
    "            if abs(val) > error\n",
    "                pos, count = append_data(sf + 1, colptr, count, row)\n",
    "                row[pos] = sf + 1\n",
    "                data[pos] += val\n",
    "            end\n",
    "        end\n",
    "        colptr = count\n",
    "    end\n",
    "    col[dim + 1] = count\n",
    "    H = SparseMatrixCSC(dim, dim, col, row[1:count-1], data[1:count-1])\n",
    "    H = sparse(H')\n",
    "    return (1/2)*(H + H')\n",
    "end\n",
    "\n",
    "function Heisenberg(J::Array{Float64,1}, la::Lattice)\n",
    "    dim = dimension(la)\n",
    "    num = sitenum(la)\n",
    "    max = dim * num * 2\n",
    "    error = 1.e-8\n",
    "    \n",
    "    col, row, data = zeros(Int, dim+1), zeros(Int, max), zeros(max)\n",
    "    colptr, count = 1, 1\n",
    "    \n",
    "    J = J/2\n",
    "    \n",
    "    for si = 0: (dim - 1)\n",
    "        col[si + 1] = colptr\n",
    "        for ind = 1:num, bond = 1:3, isz = 0:1, incell = 0:1\n",
    "            sf, val = apply_J(ind, bond, incell, isz, si, J, la)\n",
    "            if abs(val) > error\n",
    "                pos, count = append_data(sf + 1, colptr, count, row)\n",
    "                row[pos] = sf + 1\n",
    "                data[pos] += val\n",
    "            end\n",
    "        end\n",
    "        colptr = count\n",
    "    end\n",
    "    col[dim + 1] = count\n",
    "    H = SparseMatrixCSC(dim, dim, col, row[1:count-1], data[1:count-1])\n",
    "    H = sparse(H')\n",
    "    return (1/2)*(H + H')\n",
    "    end"
   ]
  },
  {
   "cell_type": "markdown",
   "metadata": {},
   "source": [
    "\\subsection{Make the Hamiltonian by direct product}"
   ]
  },
  {
   "cell_type": "code",
   "execution_count": 4,
   "metadata": {
    "code_folding": [
     0,
     5
    ]
   },
   "outputs": [
    {
     "data": {
      "text/plain": [
       "KH_Hamiltonian (generic function with 1 method)"
      ]
     },
     "execution_count": 4,
     "metadata": {},
     "output_type": "execute_result"
    }
   ],
   "source": [
    "function eye(dim::Int)\n",
    "    # make sparse identity matrix\n",
    "    return sparse(Matrix{Float64}(I, dim, dim))\n",
    "end\n",
    "\n",
    "function KH_Hamiltonian(J::Array{Float64,1}, K::Array{Float64,1}, la::Lattice)\n",
    "    sx = 0.5 * sparse([0 1;1 0])\n",
    "    sy = 0.5 * 1im * sparse([0 -1;1 0])\n",
    "    sz = 0.5 * sparse([1 0;0 -1])\n",
    "    \n",
    "    J = J/2; K = K/2\n",
    "    num = sitenum(la)\n",
    "    dim = dimension(la)\n",
    "    H = spzeros(Float64, dim, dim)\n",
    "\n",
    "    for ind = 1:num, bond = 1:3, incell = 0:1\n",
    "        fac = zeros(3)\n",
    "        pos = findposition(ind, la)\n",
    "        if bond != pos.atom + 1\n",
    "            fac[bond] = 1.0\n",
    "            nind = index(pos, incell, bond, la)\n",
    "            l = max(ind, nind); s = min(ind, nind)\n",
    "            di = 2^(s-1); dm = 2^(l-s-1); df = 2^(num-l)\n",
    "            H += (J[1] + fac[1] * K[1])* kron( eye(di), kron( sx, kron( eye(dm), kron(sx, eye(df)))))\n",
    "            H += (J[2] + fac[2] * K[2])* kron( eye(di), kron( sy, kron( eye(dm), kron(sy, eye(df)))))\n",
    "            H += (J[3] + fac[3] * K[3])* kron( eye(di), kron( sz, kron( eye(dm), kron(sz, eye(df)))))\n",
    "        else\n",
    "        end\n",
    "    end\n",
    "    return real(H)\n",
    "    end"
   ]
  },
  {
   "cell_type": "markdown",
   "metadata": {},
   "source": [
    "\\section{Specfic heat, Entropy and Static spin structure factor}\n",
    "\n",
    "In this section, we calculate specfic heat $C(T)$, entropy $S(T)$ and the $z$-component of static spin structure factor(SSSF) $S_q^z$.\n",
    "\n",
    "The partition function $Z(T)$ of the canonical ensemble at temperature $T$ is expressed as follows:\n",
    "\\begin{equation}\n",
    "    Z(T) = {\\rm Tr} e^{-\\beta H}  \n",
    "\\end{equation}\n",
    "\n",
    "If we have all eigen-states $\\{ | \\psi_i \\rangle \\}$ and eigen-energies $E_i$, then $Z(T)$ can be expressed as:\n",
    "\n",
    "\\begin{equation}\n",
    "    Z(T) = \\sum_{i=1}^{N_s} \\langle \\psi_i | e^{-\\beta H} | \\psi_i \\rangle \n",
    "       = \\sum_{i=1}^{N_s} e^{-\\beta E_i}\n",
    "\\end{equation}\n",
    "\n",
    "The energy $E(T)$, specific heat $C(T)$ and entropy $S(T)$ can be calculated using the following general functions:\n",
    "\n",
    "\\begin{equation}\n",
    "    E(T) = - \\frac{\\partial}{\\partial \\beta} \\ln Z(T) \n",
    "        = \\frac{1}{Z(T）}\\sum_{i=1}^{N_s} E_i e^{-\\beta E_i}\n",
    "\\end{equation}\n",
    "\n",
    "\\begin{equation}\n",
    "    C(T) = - \\frac{\\partial}{\\partial T} E(T) \n",
    "        = \\frac{1}{T^2 Z(T)} \\sum_{i=1}^{N_s} |E_i|^2 e^{-\\beta E_i} \n",
    "            - \\frac{|E(T)|^2}{T^2}\n",
    "\\end{equation}\n",
    "\n",
    "\\begin{equation}\n",
    "    S(T) = \\frac{E(T)}{T} + \\ln Z(T)\n",
    "\\end{equation}\n",
    "\n",
    "The $z$-component of SSSF is:\n",
    "\n",
    "\\begin{align}\n",
    "    & S_q^z  = \\frac{1}{N} \\sum_{j,k} e^{i {\\bf q} \\cdot ({\\bf r}_j - {\\bf r}_k)}\n",
    "    S_{{\\bf r}_j}^z S_{{\\bf r}_k}^z \\\\\n",
    "   & S_q^z (T) = <S_q^z>(T) = \\frac{1}{Z(T)} {\\rm Tr} (S_q^z e^{-\\beta H})\n",
    "       = \\frac{1}{Z(T)} \\sum_{i=1}^{N_s} \\langle \\psi_i | S_q^z | \\psi_i \\rangle e^{-\\beta E_i} \n",
    "\\end{align}\n",
    "\n"
   ]
  },
  {
   "cell_type": "code",
   "execution_count": 4,
   "metadata": {
    "code_folding": [
     2,
     33
    ]
   },
   "outputs": [],
   "source": [
    "\"\"\"Thermaldynamic quanties\"\"\"\n",
    "\n",
    "function partitian(T::Float64, eng::Array{Float64,1}) \n",
    "    num = length(eng)\n",
    "    z = 0.0\n",
    "    for i = 1 : num\n",
    "        z += exp(-(eng[i]-eng[1])/T)\n",
    "    end\n",
    "    return z\n",
    "    end;\n",
    "\n",
    "function energy(T::Float64, eng::Array{Float64,1}) \n",
    "    num = length(eng)\n",
    "    e = 0.0\n",
    "    z = partitian(T, eng)\n",
    "    for i = 1 : num\n",
    "        e += (eng[i]-eng[1]) * exp(-(eng[i]-eng[1])/T)\n",
    "    end\n",
    "    e = e / z\n",
    "    return e\n",
    "    end;\n",
    "\n",
    "function specific_heat(T::Float64, eng::Array{Float64,1}) \n",
    "    num = length(eng)\n",
    "    c = 0.0\n",
    "    for i = 1 : num\n",
    "        c += (eng[i]-eng[1]) * (eng[i]-eng[1])  * exp(-(eng[i]-eng[1])/T)\n",
    "    end\n",
    "    c = c / ( T * T * partitian(T, eng))\n",
    "    c -= (energy(T,eng) / T)^2\n",
    "    return c\n",
    "    end;\n",
    "\n",
    "function entropy(T::Float64, E::Float64, Z::Float64) \n",
    "    s = energy(T,eng) / T + log( partitian(T, eng) )\n",
    "    return s\n",
    "    end;\n"
   ]
  },
  {
   "cell_type": "code",
   "execution_count": 6,
   "metadata": {},
   "outputs": [
    {
     "name": "stdout",
     "output_type": "stream",
     "text": [
      "Finish!\n"
     ]
    }
   ],
   "source": [
    "\"\"\"Test GS energy of K-H model\"\"\"\n",
    "Theta = [x for x in LinRange(-1,1,101)]\n",
    "la = Lattice(1,2)\n",
    "eng = zeros(101)\n",
    "for i = 1:101\n",
    "    θ= Theta[i]\n",
    "    J = cospi(θ) * ones(3)\n",
    "    K = sinpi(θ) * ones(3)\n",
    "    Hk = Kitaev(K, la)\n",
    "    Hh = Heisenberg(J, la)\n",
    "    Htot = Hk + Hh\n",
    "    e, x = eigs(Htot, which = :SR)\n",
    "    #H1 = KH_Hamiltonian(J,K,la)\n",
    "    #e, x = eigs(H1, which = :SR)\n",
    "    eng[i] = e[1]/12\n",
    "end\n",
    "println(\"Finish!\")"
   ]
  },
  {
   "cell_type": "code",
   "execution_count": 7,
   "metadata": {},
   "outputs": [
    {
     "data": {
      "image/png": "[encoded data removed]",
      "text/plain": [
       "Figure(PyObject <Figure size 640x480 with 1 Axes>)"
      ]
     },
     "metadata": {},
     "output_type": "display_data"
    },
    {
     "data": {
      "text/plain": [
       "(-3.141592653589793, 3.141592653589793)"
      ]
     },
     "execution_count": 7,
     "metadata": {},
     "output_type": "execute_result"
    }
   ],
   "source": [
    "plot(Theta*pi, eng)\n",
    "xlim(-pi,pi)"
   ]
  },
  {
   "cell_type": "code",
   "execution_count": 5,
   "metadata": {},
   "outputs": [
    {
     "name": "stdout",
     "output_type": "stream",
     "text": [
      "Finish diagonalize K-H model!\n"
     ]
    }
   ],
   "source": [
    "\"\"\"Test code\"\"\"\n",
    "θ = 0.2\n",
    "J = cospi(θ) * ones(3)\n",
    "K = sinpi(θ) * ones(3)\n",
    "\n",
    "#println(J)\n",
    "#println(K)\n",
    "\n",
    "la = Lattice(2,2)\n",
    "N = sitenum(la)\n",
    "\n",
    "Hk = Kitaev(K, la)\n",
    "Hh = Heisenberg(J, la)\n",
    "Htot = Hk + Hh\n",
    "\n",
    "#Htot = KH_Hamiltonian(J,K,la)\n",
    "\n",
    "#e, x = eigs(Htot, nev = 2^N -1, which = :SR)\n",
    "Hdense  = Array(Htot)\n",
    "e,x = eigen(Hdense)\n",
    "\n",
    "println(\"Finish diagonalize K-H model!\")"
   ]
  },
  {
   "cell_type": "code",
   "execution_count": 17,
   "metadata": {},
   "outputs": [
    {
     "data": {
      "image/png": "[encoded data removed]",
      "text/plain": [
       "Figure(PyObject <Figure size 640x480 with 1 Axes>)"
      ]
     },
     "metadata": {},
     "output_type": "display_data"
    },
    {
     "data": {
      "text/plain": [
       "1-element Array{PyCall.PyObject,1}:\n",
       " PyObject <matplotlib.lines.Line2D object at 0x000000000119F588>"
      ]
     },
     "execution_count": 17,
     "metadata": {},
     "output_type": "execute_result"
    }
   ],
   "source": [
    "\"\"\"Eigen-energy\"\"\"\n",
    "dim = length(e)\n",
    "delE = zeros(dim)\n",
    "for i = 1:dim\n",
    "    delE[i] = e[i] - e[1]\n",
    "end\n",
    "\n",
    "plot(delE/12)"
   ]
  },
  {
   "cell_type": "code",
   "execution_count": 20,
   "metadata": {},
   "outputs": [
    {
     "name": "stdout",
     "output_type": "stream",
     "text": [
      "Finish calculate Thermaldynamic quanties!\n"
     ]
    }
   ],
   "source": [
    "\"\"\" Thermaldynamic quanties\"\"\"\n",
    "step = 100\n",
    "temp = [10^x for x in LinRange(-4,2,step)]\n",
    "Z = zeros(step)\n",
    "E = zeros(step)\n",
    "C = zeros(step)\n",
    "S = zeros(step)\n",
    "\n",
    "#println(Z)\n",
    "for i = 1: step\n",
    "    t = temp[i]\n",
    "    Z[i] += partitian(t, e)\n",
    "    E[i] += energy(t,e)\n",
    "    C[i] += specific_heat(t,e)\n",
    "    #S[i] += E[i]/t +log(Z[i])\n",
    "    S[i] += log(Z[i])\n",
    "end\n",
    "\n",
    "println(\"Finish calculate Thermaldynamic quanties!\")"
   ]
  },
  {
   "cell_type": "code",
   "execution_count": 21,
   "metadata": {},
   "outputs": [
    {
     "data": {
      "image/png": "[encoded data removed]",
      "text/plain": [
       "Figure(PyObject <Figure size 640x480 with 1 Axes>)"
      ]
     },
     "metadata": {},
     "output_type": "display_data"
    },
    {
     "data": {
      "text/plain": [
       "(0.00010000000000000005, 100)"
      ]
     },
     "execution_count": 21,
     "metadata": {},
     "output_type": "execute_result"
    }
   ],
   "source": [
    "#println(length(C))\n",
    "#println(C)\n",
    "semilogx(temp, S/N)\n",
    "xlim(10^-4, 10^2)"
   ]
  },
  {
   "cell_type": "code",
   "execution_count": 31,
   "metadata": {},
   "outputs": [
    {
     "data": {
      "text/plain": [
       "Szt (generic function with 1 method)"
      ]
     },
     "execution_count": 31,
     "metadata": {},
     "output_type": "execute_result"
    }
   ],
   "source": [
    "\"\"\"SSSF\"\"\"\n",
    "function Sz0(q::Array{Float64,1}, state::Array{Float64,1},la::Lattice)\n",
    "    # <Sz> for a certain state\n",
    "    error = 1.e-8\n",
    "    num = sitenum(la); dim = dimension(la)\n",
    "    \n",
    "    sz = 0.0 + 0im\n",
    "    for i=1:num,j=1:num\n",
    "        ri = abs_coo(i,la); rj = abs_coo(j,la)\n",
    "        phase = exp(1im * dot(q, ri - rj))\n",
    "        for n = 1:dim\n",
    "            sz += phase * state[n]' * state[n] * (bits(i,n-1)-0.5)*(bits(j,n-1)-0.5)\n",
    "        end\n",
    "    end\n",
    "    if imag(sz) < error\n",
    "        return(real(sz)/num)\n",
    "    else\n",
    "        return println(\"ERROR: large imaginary part!\")\n",
    "    end\n",
    "end\n",
    "\n",
    "function Szt(T::Float64, q::Array{Float64,1}, eng::Array{Float64,1}, basis::Array{Float64,2}, la::Lattice)\n",
    "    z = partitian(T, eng)\n",
    "    dim = dimension(la)\n",
    "    st = 0.0\n",
    "    for i= 1:dim\n",
    "        st += Sz0(q, basis[:,i],la)  * exp(-(eng[i]-eng[1])/T)\n",
    "    end\n",
    "    return st/z\n",
    "end"
   ]
  },
  {
   "cell_type": "code",
   "execution_count": 39,
   "metadata": {},
   "outputs": [
    {
     "name": "stdout",
     "output_type": "stream",
     "text": [
      "Finish calculate SSSF!\n"
     ]
    }
   ],
   "source": [
    "q = [2*pi,2*pi/sqrt(3)]\n",
    "\n",
    "step = 100\n",
    "temp = [10^x for x in LinRange(-4,2,step)]\n",
    "sz = zeros(step)\n",
    "\n",
    "for i = 1: step\n",
    "    t = temp[i]\n",
    "    sz[i] += Szt(t,q,e,x,la)\n",
    "end\n",
    "println(\"Finish calculate SSSF!\")"
   ]
  },
  {
   "cell_type": "code",
   "execution_count": 42,
   "metadata": {},
   "outputs": [
    {
     "data": {
      "image/png": "[encoded data removed]",
      "text/plain": [
       "Figure(PyObject <Figure size 640x480 with 1 Axes>)"
      ]
     },
     "metadata": {},
     "output_type": "display_data"
    },
    {
     "data": {
      "text/plain": [
       "(0.0, 0.8)"
      ]
     },
     "execution_count": 42,
     "metadata": {},
     "output_type": "execute_result"
    }
   ],
   "source": [
    "semilogx(temp, sz)\n",
    "xlim(10^-4, 10^2)\n",
    "ylim(0,0.8)"
   ]
  },
  {
   "cell_type": "code",
   "execution_count": null,
   "metadata": {},
   "outputs": [],
   "source": []
  }
 ],
 "metadata": {
  "kernelspec": {
   "display_name": "Julia 1.1.0",
   "language": "julia",
   "name": "julia-1.1"
  },
  "language_info": {
   "file_extension": ".jl",
   "mimetype": "application/julia",
   "name": "julia",
   "version": "1.1.0"
  },
  "latex_envs": {
   "LaTeX_envs_menu_present": true,
   "autoclose": false,
   "autocomplete": true,
   "bibliofile": "biblio.bib",
   "cite_by": "apalike",
   "current_citInitial": 1,
   "eqLabelWithNumbers": true,
   "eqNumInitial": 1,
   "hotkeys": {
    "equation": "Ctrl-E",
    "itemize": "Ctrl-I"
   },
   "labels_anchors": false,
   "latex_user_defs": false,
   "report_style_numbering": false,
   "user_envs_cfg": false
  },
  "toc": {
   "base_numbering": 1,
   "nav_menu": {},
   "number_sections": true,
   "sideBar": true,
   "skip_h1_title": false,
   "title_cell": "Table of Contents",
   "title_sidebar": "Contents",
   "toc_cell": false,
   "toc_position": {
    "height": "calc(100% - 180px)",
    "left": "10px",
    "top": "150px",
    "width": "165px"
   },
   "toc_section_display": true,
   "toc_window_display": false
  }
 },
 "nbformat": 4,
 "nbformat_minor": 4
}
