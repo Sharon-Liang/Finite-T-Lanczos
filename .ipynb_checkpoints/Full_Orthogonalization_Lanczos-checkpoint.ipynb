{
 "cells": [
  {
   "cell_type": "code",
   "execution_count": 1,
   "metadata": {},
   "outputs": [],
   "source": [
    "include(\"package.jl\")"
   ]
  },
  {
   "cell_type": "code",
   "execution_count": null,
   "metadata": {
    "code_folding": [
     8,
     16
    ]
   },
   "outputs": [],
   "source": [
    "function icgs(u::AbstractVector, Q::AbstractMatrix, return_norm = true)\n",
    "    \"\"\"Iterative Classical Gram-Schmidt Algorithm.\n",
    "       Input: u := the vector to be orthogonalized\n",
    "              Q := the orthonormal basis\n",
    "       Output: u := the orthogonalized vector\n",
    "    \"\"\"\n",
    "    a = 0.5; itmax = 3; \n",
    "    r0 = norm(u); r1 = r0\n",
    "    for it = 1: itmax\n",
    "        u = u - Q * (Q' * u)\n",
    "        r1 = norm(u)\n",
    "        if r1 > a * r0\n",
    "            break\n",
    "        end\n",
    "        it += 1; r0 = r1\n",
    "    end\n",
    "    if r1 <= a * r0\n",
    "        println(\"Warning: Loss of Orthogonality!\")\n",
    "    end\n",
    "    if return_norm \n",
    "        return u, norm(u) \n",
    "    else \n",
    "        return u\n",
    "    end\n",
    "end\n",
    "\n",
    "function random_init(N::Int) \n",
    "    vr = rand(Float64, N)\n",
    "    vr = vr/norm(vr)\n",
    "    return vr\n",
    "end\n",
    "\n",
    "function itFOLM(A::AbstractMatrix, nev = 50, return_basis = true)\n",
    "    \"\"\"Iterative Full Orthogonalized Lanczos Method\n",
    "       Input: A:= Symmetric Matrix\n",
    "              nev:= number of Lanczos steps\n",
    "       Output: T := tridiagonal matrix\n",
    "               Q := Orthonormal basis of Krylov space\n",
    "    \"\"\"\n",
    "    dim = size(A)[1];\n",
    "    ncv = min(nev, dim); v0 = random_init(dim); # random initiation vector\n",
    "    T, Q = zeros(ncv, ncv), zeros(dim, ncv);\n",
    "    w = v0; r = zeros(dim); k = 0;\n",
    "    while k < ncv\n",
    "        r += A * w; k += 1;\n",
    "        Q[:, k] = w; \n",
    "        T[k,k] = w' * r; r -= T[k,k] * w\n",
    "        r, b = icgs(r, Q, true)\n",
    "        for i = 1:dim\n",
    "            t = w[i]; w[i] = r[i] / b; r[i] = -b * t\n",
    "        end\n",
    "        if k < ncv\n",
    "            T[k, k+1] = b; T[k+1, k] = b\n",
    "        end\n",
    "    end\n",
    "    if return_basis\n",
    "        return T, Q\n",
    "    else\n",
    "        return T\n",
    "    end\n",
    "end"
   ]
  },
  {
   "cell_type": "code",
   "execution_count": null,
   "metadata": {},
   "outputs": [],
   "source": []
  }
 ],
 "metadata": {
  "kernelspec": {
   "display_name": "Julia 1.1.0",
   "language": "julia",
   "name": "julia-1.1"
  },
  "language_info": {
   "file_extension": ".jl",
   "mimetype": "application/julia",
   "name": "julia",
   "version": "1.1.0"
  },
  "latex_envs": {
   "LaTeX_envs_menu_present": false,
   "autoclose": false,
   "autocomplete": false,
   "bibliofile": "biblio.bib",
   "cite_by": "apalike",
   "current_citInitial": 1,
   "eqLabelWithNumbers": true,
   "eqNumInitial": 1,
   "hotkeys": {
    "equation": "Ctrl-E",
    "itemize": "Ctrl-I"
   },
   "labels_anchors": false,
   "latex_user_defs": false,
   "report_style_numbering": false,
   "user_envs_cfg": false
  },
  "toc": {
   "base_numbering": 1,
   "nav_menu": {},
   "number_sections": true,
   "sideBar": true,
   "skip_h1_title": false,
   "title_cell": "Table of Contents",
   "title_sidebar": "Contents",
   "toc_cell": false,
   "toc_position": {},
   "toc_section_display": true,
   "toc_window_display": false
  }
 },
 "nbformat": 4,
 "nbformat_minor": 4
}
