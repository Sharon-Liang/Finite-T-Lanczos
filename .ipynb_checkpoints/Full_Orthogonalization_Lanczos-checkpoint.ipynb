{
 "cells": [
  {
   "cell_type": "code",
   "execution_count": 1,
   "metadata": {},
   "outputs": [],
   "source": [
    "include(\"package.jl\")"
   ]
  },
  {
   "cell_type": "code",
   "execution_count": 56,
   "metadata": {},
   "outputs": [
    {
     "data": {
      "text/plain": [
       "icgs (generic function with 1 method)"
      ]
     },
     "execution_count": 56,
     "metadata": {},
     "output_type": "execute_result"
    }
   ],
   "source": [
    "function icgs(u::AbstractVector, Q::AbstractMatrix)\n",
    "    \"\"\"Iterative Classical Gram-Schmidt Algorithm.\n",
    "       Input: u := the vector to be orthogonalized\n",
    "              Q := the orthonormal basis\n",
    "       Output: u := the orthogonalized vector\n",
    "    \"\"\"\n",
    "    a = 0.5; itmax = 3; \n",
    "    r0 = norm(u); r1 = r0\n",
    "    for it = 1: itmax\n",
    "        u = u - Q * (Q' * u)\n",
    "        r1 = norm(u)\n",
    "        if r1 > a * r0\n",
    "            break\n",
    "        end\n",
    "        it += 1; r0 = r1\n",
    "    end\n",
    "    if r1 <= a * r0\n",
    "        println(\"Warning: Loss of Orthogonality!\")\n",
    "    end\n",
    "    return u\n",
    "end\n",
    "\n",
    "function random_init(N::Int) \n",
    "    vr = rand(Float64, N)\n",
    "    vr = vr/norm(vr)\n",
    "    return vr\n",
    "end\n",
    "\n",
    "function itFOLM(A::AbstractMatrix, nev = 50, ifbasis = False)\n",
    "    \"\"\"Iterative Full Orthogonalized Lanczos Method\n",
    "       Input: A:= Symmetric Matrix\n",
    "              nev:= number of Lanczos steps\n",
    "       Output: T := tridiagonal matrix\n",
    "               Q := Orthonormal basis of Krylov space\n",
    "    \"\"\"\n",
    "    dim = size(A)[1];\n",
    "    ncv = min(nev, dim); v0 = random_init(dim); # random initiation vector\n",
    "    T, Q = zeros(ncv, ncv), zeros(dim, ncv);\n",
    "    Q[:,1] = v0;\n",
    "    w = v0; v = A * w; T[1,1] = w' * v; T[1,2] = norm(v0)\n",
    "end"
   ]
  },
  {
   "cell_type": "code",
   "execution_count": 59,
   "metadata": {},
   "outputs": [
    {
     "data": {
      "text/plain": [
       "3-element Array{Float64,1}:\n",
       " 0.2672612419124244\n",
       " 0.5345224838248488\n",
       " 0.8017837257372732"
      ]
     },
     "execution_count": 59,
     "metadata": {},
     "output_type": "execute_result"
    }
   ],
   "source": [
    "A = [1 0;\n",
    "     0 0;\n",
    "     0 1]\n",
    "B = [1,2,3]\n",
    "B = B/norm(B)"
   ]
  },
  {
   "cell_type": "code",
   "execution_count": 60,
   "metadata": {},
   "outputs": [
    {
     "data": {
      "text/plain": [
       "3-element Array{Float64,1}:\n",
       " 0.0               \n",
       " 0.5345224838248488\n",
       " 0.0               "
      ]
     },
     "execution_count": 60,
     "metadata": {},
     "output_type": "execute_result"
    }
   ],
   "source": [
    "v = icgs(B,A)"
   ]
  },
  {
   "cell_type": "code",
   "execution_count": 12,
   "metadata": {},
   "outputs": [
    {
     "data": {
      "text/plain": [
       "true"
      ]
     },
     "execution_count": 12,
     "metadata": {},
     "output_type": "execute_result"
    }
   ],
   "source": [
    "1<=2"
   ]
  },
  {
   "cell_type": "code",
   "execution_count": null,
   "metadata": {},
   "outputs": [],
   "source": []
  }
 ],
 "metadata": {
  "kernelspec": {
   "display_name": "Julia 1.1.0",
   "language": "julia",
   "name": "julia-1.1"
  },
  "language_info": {
   "file_extension": ".jl",
   "mimetype": "application/julia",
   "name": "julia",
   "version": "1.1.0"
  },
  "latex_envs": {
   "LaTeX_envs_menu_present": false,
   "autoclose": false,
   "autocomplete": false,
   "bibliofile": "biblio.bib",
   "cite_by": "apalike",
   "current_citInitial": 1,
   "eqLabelWithNumbers": true,
   "eqNumInitial": 1,
   "hotkeys": {
    "equation": "Ctrl-E",
    "itemize": "Ctrl-I"
   },
   "labels_anchors": false,
   "latex_user_defs": false,
   "report_style_numbering": false,
   "user_envs_cfg": false
  },
  "toc": {
   "base_numbering": 1,
   "nav_menu": {},
   "number_sections": true,
   "sideBar": true,
   "skip_h1_title": false,
   "title_cell": "Table of Contents",
   "title_sidebar": "Contents",
   "toc_cell": false,
   "toc_position": {},
   "toc_section_display": true,
   "toc_window_display": false
  }
 },
 "nbformat": 4,
 "nbformat_minor": 4
}
