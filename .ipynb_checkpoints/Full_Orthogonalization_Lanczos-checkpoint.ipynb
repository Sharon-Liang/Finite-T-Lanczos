{
 "cells": [
  {
   "cell_type": "code",
   "execution_count": 1,
   "metadata": {},
   "outputs": [],
   "source": [
    "include(\"package.jl\")"
   ]
  },
  {
   "cell_type": "code",
   "execution_count": 2,
   "metadata": {
    "code_folding": []
   },
   "outputs": [
    {
     "data": {
      "text/plain": [
       "itFOLM (generic function with 3 methods)"
      ]
     },
     "execution_count": 2,
     "metadata": {},
     "output_type": "execute_result"
    }
   ],
   "source": [
    "function icgs(u::AbstractArray, Q::AbstractArray)\n",
    "    \"\"\"Iterative Classical Gram-Schmidt Algorithm.\n",
    "       Input: u := the vector to be orthogonalized\n",
    "              Q := the orthonormal basis\n",
    "       Output: u := the orthogonalized vector\n",
    "    \"\"\"\n",
    "    a = 0.5; itmax = 3; \n",
    "    r0 = norm(u); r1 = r0\n",
    "    for it = 1: itmax\n",
    "        u = u - Q * (Q' * u)\n",
    "        r1 = norm(u)\n",
    "        if r1 > a * r0\n",
    "            break\n",
    "        end\n",
    "        it += 1; r0 = r1\n",
    "    end\n",
    "    if r1 <= a * r0\n",
    "        println(\"Warning: Loss of Orthogonality!\")\n",
    "    end\n",
    "    return u\n",
    "end\n",
    "\n",
    "function random_init(N::Int) \n",
    "    vr = rand(Float64, N) .- 0.5\n",
    "    vr = vr/norm(vr)\n",
    "    return vr\n",
    "end\n",
    "\n",
    "function itFOLM(A::AbstractMatrix, nev = 50, return_basis = true)\n",
    "    \"\"\"Iterative Full Orthogonalized Lanczos Method\n",
    "       Input: A:= Symmetric Matrix\n",
    "              nev:= number of Lanczos steps\n",
    "       Output: T := tridiagonal matrix\n",
    "               Q := Orthonormal basis of Krylov space\n",
    "    \"\"\"\n",
    "    dim = size(A)[1];\n",
    "    ncv = min(nev, dim); v0 = random_init(dim); # random initiation vector\n",
    "    T, Q = zeros(ncv, ncv), zeros(dim, ncv);\n",
    "    w = v0; r = zeros(dim); k = 0;\n",
    "    for k =1: ncv\n",
    "        Q[:, k] = w; \n",
    "        r = A * w;\n",
    "        T[k,k] = w' * r;\n",
    "        r = icgs(r, Q)\n",
    "        b = norm(r)\n",
    "        w = r/b;\n",
    "        if k < ncv\n",
    "            T[k, k+1] = b; T[k+1, k] = b\n",
    "        end\n",
    "    end\n",
    "    \n",
    "    #T = Q' * A * Q;\n",
    "    if return_basis\n",
    "        return T, Q\n",
    "    else\n",
    "        return T\n",
    "    end\n",
    "end"
   ]
  },
  {
   "cell_type": "code",
   "execution_count": 19,
   "metadata": {
    "code_folding": []
   },
   "outputs": [
    {
     "data": {
      "text/plain": [
       "BLM_old (generic function with 3 methods)"
      ]
     },
     "execution_count": 19,
     "metadata": {},
     "output_type": "execute_result"
    }
   ],
   "source": [
    "function BLM(A::AbstractMatrix, nev = 50, return_basis = true)\n",
    "    \"\"\"Block Lanczos Method\n",
    "       Input: A:= Symmetric Matrix\n",
    "              nev:= number of Lanczos steps\n",
    "       Output: T := block tridiagonal matrix\n",
    "               Q := Orthonormal basis of Krylov space\n",
    "    \"\"\"\n",
    "    dim = size(A)[1]; \n",
    "    ncv = min(nev, dim); \n",
    "    s = 10\n",
    "    while mod(ncv,s) !=0\n",
    "        s -= 1\n",
    "    end\n",
    "    p = Int(ncv / s);\n",
    "    T, Q = zeros(ncv, ncv), zeros(dim, ncv); \n",
    "    X = zeros(dim,p)\n",
    "    u = random_init(dim);\n",
    "    X[:,1] = u\n",
    "    for i = 2:p\n",
    "        u = random_init(dim);\n",
    "        u = icgs(u, X)\n",
    "        u = u / norm(u)\n",
    "        X[:,i] = u\n",
    "    end\n",
    "    \n",
    "    #X = X0;\n",
    "    for j = 1:s\n",
    "        pos = (j-1)*p\n",
    "        Q[:, pos+1 : pos+p] = X\n",
    "        R = A * X\n",
    "        T[pos+1 : pos+p, pos+1 : pos+p] = X' * R;\n",
    "        \n",
    "        R = icgs(R, Q)\n",
    "        F = qr(R)\n",
    "        X = Matrix(F.Q)\n",
    "        B = Matrix(F.R)\n",
    "        if j < s\n",
    "            T[pos+1 : pos+p, j*p+1 : j*p + p] = B'\n",
    "            T[j*p+1 : j*p + p, pos+1 : pos+p] = B\n",
    "        end\n",
    "    end   \n",
    "    return T, Q        \n",
    "end\n",
    "\n",
    "function BLM_old(A::AbstractMatrix, nev = 50, return_basis = true)\n",
    "    \"\"\"Block Lanczos Method\n",
    "       Input: A:= Symmetric Matrix\n",
    "              nev:= number of Lanczos steps\n",
    "       Output: T := block tridiagonal matrix\n",
    "               Q := Orthonormal basis of Krylov space\n",
    "    \"\"\"\n",
    "    dim = size(A)[1]; \n",
    "    ncv = min(nev, dim); \n",
    "    s = 10\n",
    "    while mod(ncv,s) !=0\n",
    "        s -= 1\n",
    "    end\n",
    "    p = Int(ncv / s);\n",
    "    T, Q = zeros(ncv, ncv), zeros(dim, ncv);\n",
    "    M1, X0 = itFOLM(A, p);\n",
    "    X = X0;\n",
    "    for j = 1:s\n",
    "        pos = (j-1)*p\n",
    "        Q[:, pos+1 : pos+p] = X\n",
    "        R = A * X\n",
    "        T[pos+1 : pos+p, pos+1 : pos+p] = X' * R;\n",
    "        \n",
    "        R = icgs(R, Q)\n",
    "        F = qr(R)\n",
    "        X = Matrix(F.Q)\n",
    "        B = Matrix(F.R)\n",
    "        if j < s\n",
    "            T[pos+1 : pos+p, j*p+1 : j*p + p] = B'\n",
    "            T[j*p+1 : j*p + p, pos+1 : pos+p] = B\n",
    "        end\n",
    "    end   \n",
    "    return T, Q        \n",
    "end"
   ]
  },
  {
   "cell_type": "code",
   "execution_count": null,
   "metadata": {},
   "outputs": [],
   "source": []
  }
 ],
 "metadata": {
  "kernelspec": {
   "display_name": "Julia 1.1.0",
   "language": "julia",
   "name": "julia-1.1"
  },
  "language_info": {
   "file_extension": ".jl",
   "mimetype": "application/julia",
   "name": "julia",
   "version": "1.1.0"
  },
  "latex_envs": {
   "LaTeX_envs_menu_present": false,
   "autoclose": false,
   "autocomplete": false,
   "bibliofile": "biblio.bib",
   "cite_by": "apalike",
   "current_citInitial": 1,
   "eqLabelWithNumbers": true,
   "eqNumInitial": 1,
   "hotkeys": {
    "equation": "Ctrl-E",
    "itemize": "Ctrl-I"
   },
   "labels_anchors": false,
   "latex_user_defs": false,
   "report_style_numbering": false,
   "user_envs_cfg": false
  },
  "toc": {
   "base_numbering": 1,
   "nav_menu": {},
   "number_sections": true,
   "sideBar": true,
   "skip_h1_title": false,
   "title_cell": "Table of Contents",
   "title_sidebar": "Contents",
   "toc_cell": false,
   "toc_position": {},
   "toc_section_display": true,
   "toc_window_display": false
  }
 },
 "nbformat": 4,
 "nbformat_minor": 4
}
