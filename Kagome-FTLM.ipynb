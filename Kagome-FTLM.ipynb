{
 "cells": [
  {
   "cell_type": "code",
   "execution_count": 1,
   "metadata": {},
   "outputs": [
    {
     "data": {
      "text/plain": [
       "itFOLM_new (generic function with 3 methods)"
      ]
     },
     "execution_count": 1,
     "metadata": {},
     "output_type": "execute_result"
    }
   ],
   "source": [
    "include(\"package.jl\")\n",
    "include(\"kagome_setup.jl\")\n",
    "include(\"KH_hamiltonian.jl\")\n",
    "include(\"Full_Orthogonalization_Lanczos.jl\")"
   ]
  },
  {
   "cell_type": "markdown",
   "metadata": {},
   "source": [
    "This is the Finite-temperature ED code for Kitaev-Heisernberg model on $2 \\times 2 \\times 3$ Kagome lattice, in which the periodic boundary condition is used. If we replace the summation of $N_s$ by $R$ times random sampling and the original Hilbert space by $M$-dimentional Krylov space, the partition function can be written as:\n",
    "\n",
    "\\begin{equation}\n",
    "    Z(T) = \\frac{N_s}{R} \\sum_{r=1}^{R} \\sum_{j=1}^{M-1} e^{-\\beta E_j^r} | \\langle V_r | \\psi_j^r \\rangle |^2\n",
    "\\end{equation}\n",
    "where $| V_r \\rangle $ is a normalized random initial vector.\n",
    "\n",
    "The basic claim of Finite-temperature Lanczos Method(FTLM) is that very accurate results can be obtained for severly reduced number of Lanczos step $M \\ll N_s$ and random sampling $R \\ll N_s$. "
   ]
  },
  {
   "cell_type": "code",
   "execution_count": 2,
   "metadata": {},
   "outputs": [
    {
     "data": {
      "text/plain": [
       "FTLM_EandC (generic function with 2 methods)"
      ]
     },
     "execution_count": 2,
     "metadata": {},
     "output_type": "execute_result"
    }
   ],
   "source": [
    "function FTLM(A::AbstractMatrix, M::Integer, R::Integer, Op = nothing)\n",
    "    \"\"\"Partition Function by the Finite Temperature Lanczos Method\n",
    "       Input: A := Hamiltonian Matrix\n",
    "              M := The number of Lanczos step\n",
    "              R := The number of random sampling\n",
    "              temp := Temperature\n",
    "              Op := A general operator\n",
    "        Output: V := [E(rj),  <v psi>*<psi v>, <v psi>*<psi O v>]\n",
    "                dim/R\n",
    "    \"\"\"\n",
    "    dim = size(A)[1]; \n",
    "    if Op == nothing\n",
    "        n = 2\n",
    "    else\n",
    "        n = 3\n",
    "    end\n",
    "    \n",
    "    V = zeros(R, M, n)\n",
    "    for r = 1:R\n",
    "        T, Q = itFOLM_new(A, M, true)\n",
    "        vals, vecs = eigen(T) \n",
    "        emin = minimum(vals)\n",
    "        for j = 1:M\n",
    "            V[r,j,1] = vals[j] - emin\n",
    "            V[r,j,2] = vecs[1,j] * vecs[1,j]'\n",
    "            if Op != nothing\n",
    "                V[r,j,3] = vecs[1,j] * (vecs[:,j]' * Q' * Op * v0)\n",
    "            end\n",
    "        end\n",
    "    end\n",
    "    return V, dim/R      \n",
    "end\n",
    "\n",
    "function FTLM_partition(V::AbstractArray, fac::Number, t::Number)\n",
    "    Z = 0.\n",
    "    R, M, n = size(V);\n",
    "    for r = 1:R, j = 1:M\n",
    "        Z += exp(-V[r,j,1]/t)* V[r,j,2]\n",
    "    end\n",
    "    return Z * fac\n",
    "end\n",
    "\n",
    "function FTLM_EandC(V::AbstractArray, fac::Number, t::Number, return_c = true)\n",
    "    E = 0. ;  \n",
    "    R, M, n = size(V); Z = FTLM_partition(V, fac, t);\n",
    "    for r = 1:R, j = 1:M\n",
    "        E += V[r,j,1] * exp(-V[r,j,1]/t)* V[r,j,2]\n",
    "    end\n",
    "    E = E * fac / Z\n",
    "    \n",
    "    if return_c\n",
    "        C = 0.\n",
    "        for r = 1:R, j = 1:M\n",
    "            C += V[r,j,1] * V[r,j,1] * exp(-V[r,j,1]/t) * V[r,j,2]\n",
    "        end\n",
    "        C = C * fac /(Z * t * t)\n",
    "        C -= E*E /(t * t)\n",
    "        return E, C\n",
    "    else\n",
    "        return E\n",
    "    end\n",
    "\n",
    "end"
   ]
  },
  {
   "cell_type": "code",
   "execution_count": 3,
   "metadata": {},
   "outputs": [
    {
     "name": "stdout",
     "output_type": "stream",
     "text": [
      "Finish!\n"
     ]
    }
   ],
   "source": [
    "\"\"\"Test code\"\"\"\n",
    "θ = 0.2\n",
    "J = cospi(θ) * ones(3)\n",
    "K = sinpi(θ) * ones(3)\n",
    "\n",
    "la = Lattice(2,2)\n",
    "N = sitenum(la)\n",
    "dim = dimension(la)\n",
    "\n",
    "Hk = Kitaev(K, la)\n",
    "Hh = Heisenberg(J, la)\n",
    "Htot = Hk + Hh;\n",
    "\n",
    "V, fac = FTLM(Htot, 90, 50);\n",
    "println(\"Finish!\")"
   ]
  },
  {
   "cell_type": "code",
   "execution_count": 4,
   "metadata": {},
   "outputs": [
    {
     "name": "stdout",
     "output_type": "stream",
     "text": [
      "Finish calculate Thermaldynamic quanties!\n"
     ]
    }
   ],
   "source": [
    "\"\"\" Thermaldynamic quanties\"\"\"\n",
    "step = 100\n",
    "temp = [10^x for x in LinRange(-4,2,step)]\n",
    "Zt = zeros(step)\n",
    "Et = zeros(step)\n",
    "Ct = zeros(step)\n",
    "St = zeros(step)\n",
    "\n",
    "for i = 1: step\n",
    "    t = temp[i]\n",
    "    Zt[i] = FTLM_partition(V, fac, t)\n",
    "    Et[i], Ct[i] = FTLM_EandC(V, fac, t)\n",
    "    St[i] = Et[i]/t + log(Zt[i])\n",
    "end\n",
    "\n",
    "println(\"Finish calculate Thermaldynamic quanties!\")"
   ]
  },
  {
   "cell_type": "code",
   "execution_count": 7,
   "metadata": {},
   "outputs": [
    {
     "data": {
      "image/png": "[encoded data removed]",
      "text/plain": [
       "Figure(PyObject <Figure size 640x480 with 1 Axes>)"
      ]
     },
     "metadata": {},
     "output_type": "display_data"
    },
    {
     "data": {
      "text/plain": [
       "(0.00010000000000000005, 100)"
      ]
     },
     "execution_count": 7,
     "metadata": {},
     "output_type": "execute_result"
    }
   ],
   "source": [
    "#println(length(C))\n",
    "#println(C)\n",
    "semilogx(temp, Ct/N)\n",
    "xlim(10^-4, 10^2)"
   ]
  },
  {
   "cell_type": "code",
   "execution_count": null,
   "metadata": {},
   "outputs": [],
   "source": []
  }
 ],
 "metadata": {
  "kernelspec": {
   "display_name": "Julia 1.1.0",
   "language": "julia",
   "name": "julia-1.1"
  },
  "language_info": {
   "file_extension": ".jl",
   "mimetype": "application/julia",
   "name": "julia",
   "version": "1.1.0"
  },
  "latex_envs": {
   "LaTeX_envs_menu_present": false,
   "autoclose": false,
   "autocomplete": false,
   "bibliofile": "biblio.bib",
   "cite_by": "apalike",
   "current_citInitial": 1,
   "eqLabelWithNumbers": true,
   "eqNumInitial": 1,
   "hotkeys": {
    "equation": "Ctrl-E",
    "itemize": "Ctrl-I"
   },
   "labels_anchors": false,
   "latex_user_defs": false,
   "report_style_numbering": false,
   "user_envs_cfg": false
  },
  "toc": {
   "base_numbering": 1,
   "nav_menu": {},
   "number_sections": true,
   "sideBar": true,
   "skip_h1_title": false,
   "title_cell": "Table of Contents",
   "title_sidebar": "Contents",
   "toc_cell": false,
   "toc_position": {},
   "toc_section_display": true,
   "toc_window_display": false
  }
 },
 "nbformat": 4,
 "nbformat_minor": 4
}
