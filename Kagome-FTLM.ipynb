{
 "cells": [
  {
   "cell_type": "code",
   "execution_count": 2,
   "metadata": {},
   "outputs": [
    {
     "data": {
      "text/plain": [
       "BLM_old (generic function with 3 methods)"
      ]
     },
     "execution_count": 2,
     "metadata": {},
     "output_type": "execute_result"
    }
   ],
   "source": [
    "include(\"package.jl\")\n",
    "include(\"kagome_setup.jl\")\n",
    "include(\"KH_hamiltonian.jl\")\n",
    "include(\"Full_Orthogonalization_Lanczos.jl\")"
   ]
  },
  {
   "cell_type": "markdown",
   "metadata": {},
   "source": [
    "This is the Finite-temperature ED code for Kitaev-Heisernberg model on $2 \\times 2 \\times 3$ Kagome lattice, in which the periodic boundary condition is used. If we replace the summation of $N_s$ by $R$ times random sampling and the original Hilbert space by $M$-dimentional Krylov space, the partition function can be written as:\n",
    "\n",
    "\\begin{equation}\n",
    "    Z(T) = \\frac{N_s}{R} \\sum_{r=1}^{R} \\sum_{j=1}^{M-1} e^{-\\beta E_j^r} | \\langle V_r | \\psi_j^r \\rangle |^2\n",
    "\\end{equation}\n",
    "where $| V_r \\rangle $ is a normalized random initial vector.\n",
    "\n",
    "The basic claim of Finite-temperature Lanczos Method(FTLM) is that very accurate results can be obtained for severly reduced number of Lanczos step $M \\ll N_s$ and random sampling $R \\ll N_s$. "
   ]
  },
  {
   "cell_type": "code",
   "execution_count": 1,
   "metadata": {},
   "outputs": [
    {
     "data": {
      "text/plain": [
       "FTLM_EandC (generic function with 2 methods)"
      ]
     },
     "execution_count": 1,
     "metadata": {},
     "output_type": "execute_result"
    }
   ],
   "source": [
    "function FTLM(A::AbstractMatrix, M::Integer, R::Integer, Op = nothing)\n",
    "    \"\"\"Partition Function by the Finite Temperature Lanczos Method\n",
    "       Input: A := Hamiltonian Matrix\n",
    "              M := The number of Lanczos step\n",
    "              R := The number of random sampling\n",
    "              temp := Temperature\n",
    "              Op := A general operator\n",
    "        Output: V := [E(rj),  <v psi>*<psi v>, <v psi>*<psi O v>]\n",
    "                dim/R\n",
    "    \"\"\"\n",
    "    dim = size(A)[1]; \n",
    "    if Op == nothing\n",
    "        n = 2\n",
    "    else\n",
    "        n = 3\n",
    "    end\n",
    "    \n",
    "    V = zeros(R, M, n)\n",
    "    for r = 1:R\n",
    "        T, Q = itFOLM(A, M)\n",
    "        vals, vecs = eigen(T) \n",
    "        emin = minimum(vals)\n",
    "        for j = 1:M\n",
    "            V[r,j,1] = vals[j] - emin\n",
    "            if abs(1 -vecs[:,j]'* Q' * Q * vecs[:,j]) > 10^-5\n",
    "                println(\"neq\")\n",
    "            end\n",
    "            V[r,j,2] = vecs[1,j] * vecs[1,j]'\n",
    "            if Op != nothing\n",
    "                V[r,j,3] = vecs[1,j] * (vecs[:,j]' * Q' * Op * v0)\n",
    "            end\n",
    "        end\n",
    "    end\n",
    "    return V, dim/R      \n",
    "end\n",
    "\n",
    "function FTLM_partition(V::AbstractArray, fac::Number, t::Number)\n",
    "    Z = 0.\n",
    "    R, M, n = size(V);\n",
    "    for r = 1:R, j = 1:M\n",
    "        Z += exp(-V[r,j,1]/t) * V[r,j,2]\n",
    "    end\n",
    "    return Z * fac\n",
    "end\n",
    "\n",
    "function FTLM_EandC(V::AbstractArray, fac::Number, t::Number, return_c = true)\n",
    "    E = 0. ;  \n",
    "    R, M, n = size(V); Z = FTLM_partition(V, fac, t);\n",
    "    for r = 1:R, j = 1:M\n",
    "        E += V[r,j,1] * exp(-V[r,j,1]/t)* V[r,j,2]\n",
    "    end\n",
    "    E = E * fac / Z\n",
    "    \n",
    "    if return_c\n",
    "        C = 0.\n",
    "        for r = 1:R, j = 1:M\n",
    "            C += V[r,j,1] * V[r,j,1] * exp(-V[r,j,1]/t) * V[r,j,2]\n",
    "        end\n",
    "        C = C * fac /(Z * t * t)\n",
    "        C -= E*E /(t * t)\n",
    "        return E, C\n",
    "    else\n",
    "        return E\n",
    "    end\n",
    "\n",
    "end"
   ]
  },
  {
   "cell_type": "code",
   "execution_count": 3,
   "metadata": {},
   "outputs": [
    {
     "ename": "UndefVarError",
     "evalue": "UndefVarError: Random not defined",
     "output_type": "error",
     "traceback": [
      "UndefVarError: Random not defined",
      "",
      "Stacktrace:",
      " [1] top-level scope at In[3]:1"
     ]
    }
   ],
   "source": [
    "Random.seed!"
   ]
  },
  {
   "cell_type": "code",
   "execution_count": null,
   "metadata": {},
   "outputs": [],
   "source": []
  }
 ],
 "metadata": {
  "kernelspec": {
   "display_name": "Julia 1.1.0",
   "language": "julia",
   "name": "julia-1.1"
  },
  "language_info": {
   "file_extension": ".jl",
   "mimetype": "application/julia",
   "name": "julia",
   "version": "1.1.0"
  },
  "latex_envs": {
   "LaTeX_envs_menu_present": false,
   "autoclose": false,
   "autocomplete": false,
   "bibliofile": "biblio.bib",
   "cite_by": "apalike",
   "current_citInitial": 1,
   "eqLabelWithNumbers": true,
   "eqNumInitial": 1,
   "hotkeys": {
    "equation": "Ctrl-E",
    "itemize": "Ctrl-I"
   },
   "labels_anchors": false,
   "latex_user_defs": false,
   "report_style_numbering": false,
   "user_envs_cfg": false
  },
  "toc": {
   "base_numbering": 1,
   "nav_menu": {},
   "number_sections": true,
   "sideBar": true,
   "skip_h1_title": false,
   "title_cell": "Table of Contents",
   "title_sidebar": "Contents",
   "toc_cell": false,
   "toc_position": {},
   "toc_section_display": true,
   "toc_window_display": false
  }
 },
 "nbformat": 4,
 "nbformat_minor": 4
}
